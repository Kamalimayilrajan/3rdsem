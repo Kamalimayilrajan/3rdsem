{
 "cells": [
  {
   "cell_type": "code",
   "execution_count": 1,
   "id": "bf61b73c",
   "metadata": {},
   "outputs": [],
   "source": [
    "data= [16,21,15,7,8,24,9,1,30,10,25,13,26,11,2,5,20,28,18,3]"
   ]
  },
  {
   "cell_type": "code",
   "execution_count": 2,
   "id": "207fd96e",
   "metadata": {},
   "outputs": [],
   "source": [
    "data.sort()"
   ]
  },
  {
   "cell_type": "code",
   "execution_count": 3,
   "id": "aa681be0",
   "metadata": {},
   "outputs": [
    {
     "data": {
      "text/plain": [
       "[1, 2, 3, 5, 7, 8, 9, 10, 11, 13, 15, 16, 18, 20, 21, 24, 25, 26, 28, 30]"
      ]
     },
     "execution_count": 3,
     "metadata": {},
     "output_type": "execute_result"
    }
   ],
   "source": [
    "data"
   ]
  },
  {
   "cell_type": "code",
   "execution_count": 4,
   "id": "039fc04f",
   "metadata": {},
   "outputs": [
    {
     "name": "stdout",
     "output_type": "stream",
     "text": [
      "print the search element 4\n"
     ]
    }
   ],
   "source": [
    "element=int(input(\"print the search element \"))"
   ]
  },
  {
   "cell_type": "code",
   "execution_count": 5,
   "id": "3dbc2e85",
   "metadata": {},
   "outputs": [],
   "source": [
    "def binary_search(data,element):\n",
    "    low=0\n",
    "    high=len(data)-1\n",
    "    while low <= high:\n",
    "        middle =(low + high)//2\n",
    "        if data[middle]==element:\n",
    "            print(f\"The search Element{element}is present at index\")\n",
    "            break\n",
    "        elif data[middle]>element:\n",
    "            high=middle-1\n",
    "        else:\n",
    "            low=middle+1\n",
    "        if data[middle] !=element:\n",
    "            print(f\"The searching element {element} is not present in the index\")\n",
    "            return-1"
   ]
  },
  {
   "cell_type": "code",
   "execution_count": 6,
   "id": "0875101b",
   "metadata": {},
   "outputs": [
    {
     "name": "stdout",
     "output_type": "stream",
     "text": [
      "The searching element 4 is not present in the index\n"
     ]
    },
    {
     "data": {
      "text/plain": [
       "-1"
      ]
     },
     "execution_count": 6,
     "metadata": {},
     "output_type": "execute_result"
    }
   ],
   "source": [
    "binary_search(data,element)"
   ]
  },
  {
   "cell_type": "code",
   "execution_count": null,
   "id": "a5db1f57",
   "metadata": {},
   "outputs": [],
   "source": []
  },
  {
   "cell_type": "code",
   "execution_count": null,
   "id": "cf9abcad",
   "metadata": {},
   "outputs": [],
   "source": []
  }
 ],
 "metadata": {
  "kernelspec": {
   "display_name": "Python 3 (ipykernel)",
   "language": "python",
   "name": "python3"
  },
  "language_info": {
   "codemirror_mode": {
    "name": "ipython",
    "version": 3
   },
   "file_extension": ".py",
   "mimetype": "text/x-python",
   "name": "python",
   "nbconvert_exporter": "python",
   "pygments_lexer": "ipython3",
   "version": "3.9.17"
  }
 },
 "nbformat": 4,
 "nbformat_minor": 5
}
