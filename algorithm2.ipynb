{
 "cells": [
  {
   "cell_type": "markdown",
   "id": "083a2621",
   "metadata": {},
   "source": [
    "# BUBBLE SORT ALGORITHM"
   ]
  },
  {
   "cell_type": "code",
   "execution_count": 10,
   "id": "775bcc96",
   "metadata": {},
   "outputs": [],
   "source": [
    "data=[2,4,-7,-9,12,3,35,76,-87,54,-23,28,56,8,78,97,79,43,27,85,36,14,9,7]"
   ]
  },
  {
   "cell_type": "code",
   "execution_count": 11,
   "id": "62a525ad",
   "metadata": {},
   "outputs": [
    {
     "data": {
      "text/plain": [
       "24"
      ]
     },
     "execution_count": 11,
     "metadata": {},
     "output_type": "execute_result"
    }
   ],
   "source": [
    "len(data)"
   ]
  },
  {
   "cell_type": "code",
   "execution_count": 12,
   "id": "73d637f9",
   "metadata": {},
   "outputs": [],
   "source": [
    "def bubble_sort(data):\n",
    "    for i in range(len(data)):\n",
    "        for j in range(0,len(data)-i-1):\n",
    "            if data[j]>data[j+1]:\n",
    "                k=data[j]\n",
    "                data[j]=data[j+1]\n",
    "                data[j+1]=k\n"
   ]
  },
  {
   "cell_type": "code",
   "execution_count": 13,
   "id": "77dce696",
   "metadata": {
    "scrolled": true
   },
   "outputs": [],
   "source": [
    "bubble_sort(data)"
   ]
  },
  {
   "cell_type": "code",
   "execution_count": 14,
   "id": "b7b89a25",
   "metadata": {},
   "outputs": [
    {
     "name": "stdout",
     "output_type": "stream",
     "text": [
      "[-87, -23, -9, -7, 2, 3, 4, 7, 8, 9, 12, 14, 27, 28, 35, 36, 43, 54, 56, 76, 78, 79, 85, 97]\n"
     ]
    }
   ],
   "source": [
    "print(data)"
   ]
  },
  {
   "cell_type": "code",
   "execution_count": null,
   "id": "2f9799db",
   "metadata": {},
   "outputs": [],
   "source": []
  },
  {
   "cell_type": "code",
   "execution_count": null,
   "id": "5d43d980",
   "metadata": {},
   "outputs": [],
   "source": []
  }
 ],
 "metadata": {
  "kernelspec": {
   "display_name": "Python 3 (ipykernel)",
   "language": "python",
   "name": "python3"
  },
  "language_info": {
   "codemirror_mode": {
    "name": "ipython",
    "version": 3
   },
   "file_extension": ".py",
   "mimetype": "text/x-python",
   "name": "python",
   "nbconvert_exporter": "python",
   "pygments_lexer": "ipython3",
   "version": "3.9.17"
  }
 },
 "nbformat": 4,
 "nbformat_minor": 5
}
