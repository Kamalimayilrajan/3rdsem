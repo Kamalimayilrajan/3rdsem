{
 "cells": [
  {
   "cell_type": "markdown",
   "id": "5db4c714",
   "metadata": {},
   "source": [
    "# FOR LOOPS"
   ]
  },
  {
   "cell_type": "code",
   "execution_count": 1,
   "id": "50cf81f6",
   "metadata": {},
   "outputs": [],
   "source": [
    "lis=[1,2,3,4,5]"
   ]
  },
  {
   "cell_type": "code",
   "execution_count": 2,
   "id": "a8aa4f56",
   "metadata": {},
   "outputs": [
    {
     "name": "stdout",
     "output_type": "stream",
     "text": [
      "kamali\n",
      "kamali\n",
      "kamali\n",
      "kamali\n",
      "kamali\n"
     ]
    }
   ],
   "source": [
    "for stop in lis:\n",
    "    print(\"kamali\")"
   ]
  },
  {
   "cell_type": "code",
   "execution_count": 3,
   "id": "58a305d1",
   "metadata": {},
   "outputs": [
    {
     "name": "stdout",
     "output_type": "stream",
     "text": [
      "kamali 1\n",
      "kamali 2\n",
      "kamali 3\n",
      "kamali 4\n",
      "kamali 5\n"
     ]
    }
   ],
   "source": [
    "for stop in lis:\n",
    "    print(f\"kamali {stop}\")"
   ]
  },
  {
   "cell_type": "code",
   "execution_count": 4,
   "id": "bfb0b188",
   "metadata": {},
   "outputs": [
    {
     "name": "stdout",
     "output_type": "stream",
     "text": [
      "Enter your name:k\n",
      "Enter your name:k\n",
      "Enter your name:k\n",
      "Enter your name:k\n",
      "Enter your name:k\n"
     ]
    }
   ],
   "source": [
    "for stop in lis:\n",
    "    input(\"Enter your name:\")"
   ]
  },
  {
   "cell_type": "code",
   "execution_count": 7,
   "id": "0ee81399",
   "metadata": {},
   "outputs": [
    {
     "name": "stdout",
     "output_type": "stream",
     "text": [
      "Enter the number of items purchased1\n",
      "Enter the product name:mobile\n"
     ]
    }
   ],
   "source": [
    "prod_name=[]\n",
    "total_item=int(input(\"Enter the number of items purchased\"))\n",
    "for stop in range(0,total_item):\n",
    "    prod_name.append(input(\"Enter the product name:\"))\n",
    "   \n",
    "     "
   ]
  },
  {
   "cell_type": "code",
   "execution_count": 8,
   "id": "be5cdf0a",
   "metadata": {},
   "outputs": [
    {
     "data": {
      "text/plain": [
       "['mobile']"
      ]
     },
     "execution_count": 8,
     "metadata": {},
     "output_type": "execute_result"
    }
   ],
   "source": [
    "prod_name"
   ]
  },
  {
   "cell_type": "markdown",
   "id": "d6f5e204",
   "metadata": {},
   "source": [
    "# WHILE LOOP"
   ]
  },
  {
   "cell_type": "code",
   "execution_count": null,
   "id": "d8edf9c0",
   "metadata": {},
   "outputs": [],
   "source": []
  }
 ],
 "metadata": {
  "kernelspec": {
   "display_name": "Python 3 (ipykernel)",
   "language": "python",
   "name": "python3"
  },
  "language_info": {
   "codemirror_mode": {
    "name": "ipython",
    "version": 3
   },
   "file_extension": ".py",
   "mimetype": "text/x-python",
   "name": "python",
   "nbconvert_exporter": "python",
   "pygments_lexer": "ipython3",
   "version": "3.9.17"
  }
 },
 "nbformat": 4,
 "nbformat_minor": 5
}
