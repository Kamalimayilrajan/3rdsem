{
 "cells": [
  {
   "cell_type": "markdown",
   "id": "375a7d23",
   "metadata": {},
   "source": [
    "# CONDITIONAL STATEMENTS"
   ]
  },
  {
   "cell_type": "code",
   "execution_count": 1,
   "id": "f9d7f488",
   "metadata": {},
   "outputs": [],
   "source": [
    "a=2"
   ]
  },
  {
   "cell_type": "code",
   "execution_count": 2,
   "id": "58e39735",
   "metadata": {},
   "outputs": [
    {
     "name": "stdout",
     "output_type": "stream",
     "text": [
      "pass\n"
     ]
    }
   ],
   "source": [
    "if a==2:\n",
    "   print(\"pass\")\n",
    "else:\n",
    "   print(\"fail\")"
   ]
  },
  {
   "cell_type": "code",
   "execution_count": 3,
   "id": "4b9984af",
   "metadata": {},
   "outputs": [
    {
     "name": "stdout",
     "output_type": "stream",
     "text": [
      "success\n"
     ]
    }
   ],
   "source": [
    "A=33\n",
    "if a/3:\n",
    "    print(\"success\")\n"
   ]
  },
  {
   "cell_type": "code",
   "execution_count": 4,
   "id": "90900e4b",
   "metadata": {},
   "outputs": [
    {
     "name": "stdout",
     "output_type": "stream",
     "text": [
      "enter your age:18\n",
      " you are eligible for voting \n",
      "Enter your name:kamali\n",
      "Enter your Locationmanargudi\n",
      "Thank you for entering your details\n"
     ]
    }
   ],
   "source": [
    "age=int(input(\"enter your age:\"))\n",
    "if age>=18:\n",
    "    print (\" you are eligible for voting \")\n",
    "    Name=input(\"Enter your name:\")\n",
    "    Location=(input(\"Enter your Location\"))\n",
    "    print(\"Thank you for entering your details\")\n",
    "else:\n",
    "    print(\"you are not eligible for voting\")"
   ]
  },
  {
   "cell_type": "code",
   "execution_count": 5,
   "id": "8b1f17ca",
   "metadata": {},
   "outputs": [
    {
     "name": "stdout",
     "output_type": "stream",
     "text": [
      "Enter The number of days delayed:10\n",
      "your fine fees is rupees 150\n"
     ]
    }
   ],
   "source": [
    "days=int(input(\"Enter The number of days delayed:\"))\n",
    "if days>=1 and days>=2:\n",
    "    print(\"your fine fees is rupees 150\")\n",
    "elif days>=3 and days>=4:\n",
    "    print(\"your fine fees is 250\")\n",
    "else:\n",
    "    print(\"your membership is cancelled\")\n",
    "    \n"
   ]
  },
  {
   "cell_type": "code",
   "execution_count": null,
   "id": "cf473613",
   "metadata": {},
   "outputs": [],
   "source": []
  }
 ],
 "metadata": {
  "kernelspec": {
   "display_name": "Python 3 (ipykernel)",
   "language": "python",
   "name": "python3"
  },
  "language_info": {
   "codemirror_mode": {
    "name": "ipython",
    "version": 3
   },
   "file_extension": ".py",
   "mimetype": "text/x-python",
   "name": "python",
   "nbconvert_exporter": "python",
   "pygments_lexer": "ipython3",
   "version": "3.9.17"
  }
 },
 "nbformat": 4,
 "nbformat_minor": 5
}
