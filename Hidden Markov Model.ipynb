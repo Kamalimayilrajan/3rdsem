{
 "cells": [
  {
   "cell_type": "markdown",
   "id": "ad1ea32f",
   "metadata": {},
   "source": [
    "In our problem we have our poor prisoner who is stuck in a prison...as the story says ...this prison is completely isolated from the rest of the world and one cannot even see the sky...in such scenario our prisoner has been in the prisoner has been in the prison for 2 years now...the funny thing is that there is an incharge who takes care of all prisoners....so the incharge wears a hat if its sunny and wears a rain coat if its rain....since the prisoner has no access to open spaces...he can only deduce the weather by checking what the incharge came in everyday\\...is it a raincoat or a hat..."
   ]
  },
  {
   "cell_type": "markdown",
   "id": "09dffe96",
   "metadata": {},
   "source": [
    "# 1.Import the Libraries"
   ]
  },
  {
   "cell_type": "code",
   "execution_count": 28,
   "id": "b16e3505",
   "metadata": {},
   "outputs": [
    {
     "name": "stdout",
     "output_type": "stream",
     "text": [
      "Collecting pandas\n",
      "  Obtaining dependency information for pandas from https://files.pythonhosted.org/packages/3f/7a/8ecafdb6a6990ad90f0366a8d7356e9d62118ce832c38ca4fe6136a5e207/pandas-2.1.2-cp39-cp39-win_amd64.whl.metadata\n",
      "  Downloading pandas-2.1.2-cp39-cp39-win_amd64.whl.metadata (18 kB)\n",
      "Requirement already satisfied: numpy<2,>=1.22.4 in c:\\users\\sn156\\anaconda3\\envs\\kamali\\lib\\site-packages (from pandas) (1.26.0)\n",
      "Requirement already satisfied: python-dateutil>=2.8.2 in c:\\users\\sn156\\anaconda3\\envs\\kamali\\lib\\site-packages (from pandas) (2.8.2)\n",
      "Collecting pytz>=2020.1 (from pandas)\n",
      "  Obtaining dependency information for pytz>=2020.1 from https://files.pythonhosted.org/packages/32/4d/aaf7eff5deb402fd9a24a1449a8119f00d74ae9c2efa79f8ef9994261fc2/pytz-2023.3.post1-py2.py3-none-any.whl.metadata\n",
      "  Downloading pytz-2023.3.post1-py2.py3-none-any.whl.metadata (22 kB)\n",
      "Collecting tzdata>=2022.1 (from pandas)\n",
      "  Downloading tzdata-2023.3-py2.py3-none-any.whl (341 kB)\n",
      "     ---------------------------------------- 0.0/341.8 kB ? eta -:--:--\n",
      "     ---- -------------------------------- 41.0/341.8 kB 991.0 kB/s eta 0:00:01\n",
      "     -------- ---------------------------- 81.9/341.8 kB 919.0 kB/s eta 0:00:01\n",
      "     ------------------ ------------------- 163.8/341.8 kB 1.2 MB/s eta 0:00:01\n",
      "     --------------------------------- ---- 297.0/341.8 kB 1.7 MB/s eta 0:00:01\n",
      "     -------------------------------------  337.9/341.8 kB 1.8 MB/s eta 0:00:01\n",
      "     -------------------------------------- 341.8/341.8 kB 1.3 MB/s eta 0:00:00\n",
      "Requirement already satisfied: six>=1.5 in c:\\users\\sn156\\anaconda3\\envs\\kamali\\lib\\site-packages (from python-dateutil>=2.8.2->pandas) (1.16.0)\n",
      "Downloading pandas-2.1.2-cp39-cp39-win_amd64.whl (10.8 MB)\n",
      "   ---------------------------------------- 0.0/10.8 MB ? eta -:--:--\n",
      "    --------------------------------------- 0.2/10.8 MB 14.7 MB/s eta 0:00:01\n",
      "   - -------------------------------------- 0.5/10.8 MB 6.4 MB/s eta 0:00:02\n",
      "   -- ------------------------------------- 0.7/10.8 MB 5.9 MB/s eta 0:00:02\n",
      "   --- ------------------------------------ 1.0/10.8 MB 5.7 MB/s eta 0:00:02\n",
      "   ---- ----------------------------------- 1.2/10.8 MB 5.4 MB/s eta 0:00:02\n",
      "   ----- ---------------------------------- 1.4/10.8 MB 5.1 MB/s eta 0:00:02\n",
      "   ----- ---------------------------------- 1.6/10.8 MB 5.1 MB/s eta 0:00:02\n",
      "   ------ --------------------------------- 1.8/10.8 MB 5.1 MB/s eta 0:00:02\n",
      "   ------- -------------------------------- 2.1/10.8 MB 5.0 MB/s eta 0:00:02\n",
      "   -------- ------------------------------- 2.3/10.8 MB 5.0 MB/s eta 0:00:02\n",
      "   --------- ------------------------------ 2.5/10.8 MB 5.0 MB/s eta 0:00:02\n",
      "   ---------- ----------------------------- 2.8/10.8 MB 4.9 MB/s eta 0:00:02\n",
      "   ----------- ---------------------------- 3.0/10.8 MB 4.9 MB/s eta 0:00:02\n",
      "   ----------- ---------------------------- 3.2/10.8 MB 4.9 MB/s eta 0:00:02\n",
      "   ------------ --------------------------- 3.4/10.8 MB 4.8 MB/s eta 0:00:02\n",
      "   ------------- -------------------------- 3.6/10.8 MB 4.9 MB/s eta 0:00:02\n",
      "   -------------- ------------------------- 3.8/10.8 MB 4.9 MB/s eta 0:00:02\n",
      "   -------------- ------------------------- 4.0/10.8 MB 4.8 MB/s eta 0:00:02\n",
      "   --------------- ------------------------ 4.2/10.8 MB 4.9 MB/s eta 0:00:02\n",
      "   ---------------- ----------------------- 4.4/10.8 MB 4.8 MB/s eta 0:00:02\n",
      "   ----------------- ---------------------- 4.6/10.8 MB 4.8 MB/s eta 0:00:02\n",
      "   ----------------- ---------------------- 4.8/10.8 MB 4.8 MB/s eta 0:00:02\n",
      "   ------------------ --------------------- 5.1/10.8 MB 4.8 MB/s eta 0:00:02\n",
      "   ------------------- -------------------- 5.3/10.8 MB 4.9 MB/s eta 0:00:02\n",
      "   -------------------- ------------------- 5.5/10.8 MB 4.9 MB/s eta 0:00:02\n",
      "   --------------------- ------------------ 5.8/10.8 MB 4.9 MB/s eta 0:00:02\n",
      "   ---------------------- ----------------- 6.0/10.8 MB 4.9 MB/s eta 0:00:01\n",
      "   ----------------------- ---------------- 6.2/10.8 MB 4.9 MB/s eta 0:00:01\n",
      "   ----------------------- ---------------- 6.5/10.8 MB 4.9 MB/s eta 0:00:01\n",
      "   ------------------------ --------------- 6.7/10.8 MB 4.9 MB/s eta 0:00:01\n",
      "   ------------------------- -------------- 6.9/10.8 MB 4.9 MB/s eta 0:00:01\n",
      "   -------------------------- ------------- 7.1/10.8 MB 4.9 MB/s eta 0:00:01\n",
      "   --------------------------- ------------ 7.4/10.8 MB 4.9 MB/s eta 0:00:01\n",
      "   ---------------------------- ----------- 7.6/10.8 MB 4.9 MB/s eta 0:00:01\n",
      "   ----------------------------- ---------- 7.8/10.8 MB 4.9 MB/s eta 0:00:01\n",
      "   ----------------------------- ---------- 8.0/10.8 MB 4.8 MB/s eta 0:00:01\n",
      "   ------------------------------ --------- 8.2/10.8 MB 4.9 MB/s eta 0:00:01\n",
      "   ------------------------------- -------- 8.4/10.8 MB 4.8 MB/s eta 0:00:01\n",
      "   ------------------------------- -------- 8.6/10.8 MB 4.9 MB/s eta 0:00:01\n",
      "   -------------------------------- ------- 8.8/10.8 MB 4.9 MB/s eta 0:00:01\n",
      "   --------------------------------- ------ 9.0/10.8 MB 4.9 MB/s eta 0:00:01\n",
      "   ---------------------------------- ----- 9.2/10.8 MB 4.9 MB/s eta 0:00:01\n",
      "   ----------------------------------- ---- 9.5/10.8 MB 4.9 MB/s eta 0:00:01\n",
      "   ----------------------------------- ---- 9.7/10.8 MB 4.8 MB/s eta 0:00:01\n",
      "   ------------------------------------ --- 9.9/10.8 MB 4.9 MB/s eta 0:00:01\n",
      "   ------------------------------------- -- 10.2/10.8 MB 4.9 MB/s eta 0:00:01\n",
      "   -------------------------------------- - 10.4/10.8 MB 4.9 MB/s eta 0:00:01\n",
      "   ---------------------------------------  10.6/10.8 MB 4.9 MB/s eta 0:00:01\n",
      "   ---------------------------------------  10.8/10.8 MB 4.8 MB/s eta 0:00:01\n",
      "   ---------------------------------------  10.8/10.8 MB 4.8 MB/s eta 0:00:01\n",
      "   ---------------------------------------  10.8/10.8 MB 4.8 MB/s eta 0:00:01\n",
      "   ---------------------------------------- 10.8/10.8 MB 4.6 MB/s eta 0:00:00\n",
      "Downloading pytz-2023.3.post1-py2.py3-none-any.whl (502 kB)\n",
      "   ---------------------------------------- 0.0/502.5 kB ? eta -:--:--\n",
      "   -------------------- ------------------- 256.0/502.5 kB 7.9 MB/s eta 0:00:01\n",
      "   ---------------------------------------  491.5/502.5 kB 6.2 MB/s eta 0:00:01\n",
      "   ---------------------------------------  501.8/502.5 kB 5.2 MB/s eta 0:00:01\n",
      "   ---------------------------------------- 502.5/502.5 kB 3.5 MB/s eta 0:00:00\n",
      "Installing collected packages: pytz, tzdata, pandas\n",
      "Successfully installed pandas-2.1.2 pytz-2023.3.post1 tzdata-2023.3\n",
      "Note: you may need to restart the kernel to use updated packages.\n"
     ]
    }
   ],
   "source": [
    "pip install pandas"
   ]
  },
  {
   "cell_type": "code",
   "execution_count": 29,
   "id": "5ac00a1d",
   "metadata": {},
   "outputs": [],
   "source": [
    "import pandas as k"
   ]
  },
  {
   "cell_type": "code",
   "execution_count": 1,
   "id": "588dedc7",
   "metadata": {
    "collapsed": true
   },
   "outputs": [],
   "source": [
    "from protopunica import *\n",
    "\n",
    "# 2. Observation Model"
   ]
  },
  {
   "cell_type": "code",
   "execution_count": 2,
   "id": "ed9a47b4",
   "metadata": {},
   "outputs": [],
   "source": [
    "sunny = DiscreteDistribution({\"raincoat\": 0.1,\"hat\":0.9})\n",
    "rainy = DiscreteDistribution({\"raincoat\": 0.7,\"hat\":0.3})"
   ]
  },
  {
   "cell_type": "markdown",
   "id": "cd8ec6d8",
   "metadata": {},
   "source": [
    "# 3.Define States"
   ]
  },
  {
   "cell_type": "code",
   "execution_count": 3,
   "id": "2b15b197",
   "metadata": {},
   "outputs": [],
   "source": [
    "States=[sunny,rainy]"
   ]
  },
  {
   "cell_type": "markdown",
   "id": "d1dceea2",
   "metadata": {},
   "source": [
    "# 4.Transition Model"
   ]
  },
  {
   "cell_type": "code",
   "execution_count": 5,
   "id": "7a41e8e3",
   "metadata": {},
   "outputs": [],
   "source": [
    "transition_model=numpy.array([[0.7,0.3],[0.4,0.6]])"
   ]
  },
  {
   "cell_type": "markdown",
   "id": "14684051",
   "metadata": {},
   "source": [
    "# 5.Initial State"
   ]
  },
  {
   "cell_type": "code",
   "execution_count": 11,
   "id": "6c054048",
   "metadata": {},
   "outputs": [],
   "source": [
    "Initial_state=numpy.array([0.3,0.7])"
   ]
  },
  {
   "cell_type": "markdown",
   "id": "87738390",
   "metadata": {},
   "source": [
    "# 6.Build the Model"
   ]
  },
  {
   "cell_type": "code",
   "execution_count": 14,
   "id": "6ceaa39d",
   "metadata": {},
   "outputs": [],
   "source": [
    "model=HiddenMarkovModel.from_matrix(\n",
    "transition_model,States,Initial_state,\n",
    "state_names=[\"sunny\",\"rainy\"])"
   ]
  },
  {
   "cell_type": "markdown",
   "id": "f9f57520",
   "metadata": {},
   "source": [
    "# Bake the Model"
   ]
  },
  {
   "cell_type": "code",
   "execution_count": 13,
   "id": "77d7091f",
   "metadata": {},
   "outputs": [],
   "source": [
    "model.bake()"
   ]
  },
  {
   "cell_type": "markdown",
   "id": "2149eb3d",
   "metadata": {},
   "source": [
    "# Observations"
   ]
  },
  {
   "cell_type": "code",
   "execution_count": 20,
   "id": "327f43a6",
   "metadata": {},
   "outputs": [],
   "source": [
    "observations=[\n",
    "    \"hat\",\n",
    "    \"hat\",\n",
    "    \"raincoat\",\n",
    "    \"raincoat\",\n",
    "    \"hat\",\n",
    "    \"hat\",\n",
    "    \"raincoat\",\n",
    "    \"hat\",\n",
    "    \"hat\",\n",
    "]"
   ]
  },
  {
   "cell_type": "markdown",
   "id": "05476f58",
   "metadata": {},
   "source": [
    "# Predict States for given observation"
   ]
  },
  {
   "cell_type": "code",
   "execution_count": 22,
   "id": "b66869f6",
   "metadata": {},
   "outputs": [],
   "source": [
    "predictions=model.predict(observations)"
   ]
  },
  {
   "cell_type": "code",
   "execution_count": 23,
   "id": "ba9459d5",
   "metadata": {},
   "outputs": [
    {
     "data": {
      "text/plain": [
       "[1, 1, 0, 0, 1, 1, 0, 1, 1]"
      ]
     },
     "execution_count": 23,
     "metadata": {},
     "output_type": "execute_result"
    }
   ],
   "source": [
    "predictions\n"
   ]
  },
  {
   "cell_type": "markdown",
   "id": "587f1fc5",
   "metadata": {},
   "source": [
    "# Model"
   ]
  },
  {
   "cell_type": "code",
   "execution_count": 25,
   "id": "e2ee552b",
   "metadata": {},
   "outputs": [
    {
     "data": {
      "text/plain": [
       "{\n",
       "    \"class\" : \"HiddenMarkovModel\",\n",
       "    \"name\" : \"None\",\n",
       "    \"start\" : {\n",
       "        \"class\" : \"State\",\n",
       "        \"distribution\" : null,\n",
       "        \"name\" : \"None-start\",\n",
       "        \"weight\" : 1.0\n",
       "    },\n",
       "    \"end\" : {\n",
       "        \"class\" : \"State\",\n",
       "        \"distribution\" : null,\n",
       "        \"name\" : \"None-end\",\n",
       "        \"weight\" : 1.0\n",
       "    },\n",
       "    \"states\" : [\n",
       "        {\n",
       "            \"class\" : \"State\",\n",
       "            \"distribution\" : {\n",
       "                \"class\" : \"Distribution\",\n",
       "                \"dtype\" : \"str\",\n",
       "                \"name\" : \"DiscreteDistribution\",\n",
       "                \"parameters\" : [\n",
       "                    {\n",
       "                        \"raincoat\" : 0.7,\n",
       "                        \"hat\" : 0.3\n",
       "                    }\n",
       "                ],\n",
       "                \"frozen\" : false\n",
       "            },\n",
       "            \"name\" : \"rainy\",\n",
       "            \"weight\" : 1.0\n",
       "        },\n",
       "        {\n",
       "            \"class\" : \"State\",\n",
       "            \"distribution\" : {\n",
       "                \"class\" : \"Distribution\",\n",
       "                \"dtype\" : \"str\",\n",
       "                \"name\" : \"DiscreteDistribution\",\n",
       "                \"parameters\" : [\n",
       "                    {\n",
       "                        \"raincoat\" : 0.1,\n",
       "                        \"hat\" : 0.9\n",
       "                    }\n",
       "                ],\n",
       "                \"frozen\" : false\n",
       "            },\n",
       "            \"name\" : \"sunny\",\n",
       "            \"weight\" : 1.0\n",
       "        },\n",
       "        {\n",
       "            \"class\" : \"State\",\n",
       "            \"distribution\" : null,\n",
       "            \"name\" : \"None-start\",\n",
       "            \"weight\" : 1.0\n",
       "        },\n",
       "        {\n",
       "            \"class\" : \"State\",\n",
       "            \"distribution\" : null,\n",
       "            \"name\" : \"None-end\",\n",
       "            \"weight\" : 1.0\n",
       "        }\n",
       "    ],\n",
       "    \"end_index\" : 3,\n",
       "    \"start_index\" : 2,\n",
       "    \"silent_index\" : 2,\n",
       "    \"edges\" : [\n",
       "        [\n",
       "            2,\n",
       "            1,\n",
       "            0.3,\n",
       "            0.3,\n",
       "            null\n",
       "        ],\n",
       "        [\n",
       "            2,\n",
       "            0,\n",
       "            0.7,\n",
       "            0.7,\n",
       "            null\n",
       "        ],\n",
       "        [\n",
       "            1,\n",
       "            1,\n",
       "            0.7,\n",
       "            0.7,\n",
       "            null\n",
       "        ],\n",
       "        [\n",
       "            1,\n",
       "            0,\n",
       "            0.3,\n",
       "            0.3,\n",
       "            null\n",
       "        ],\n",
       "        [\n",
       "            0,\n",
       "            1,\n",
       "            0.4,\n",
       "            0.4,\n",
       "            null\n",
       "        ],\n",
       "        [\n",
       "            0,\n",
       "            0,\n",
       "            0.6,\n",
       "            0.6,\n",
       "            null\n",
       "        ]\n",
       "    ],\n",
       "    \"distribution ties\" : []\n",
       "}"
      ]
     },
     "execution_count": 25,
     "metadata": {},
     "output_type": "execute_result"
    }
   ],
   "source": [
    "model"
   ]
  },
  {
   "cell_type": "markdown",
   "id": "e8ee9efe",
   "metadata": {},
   "source": [
    "# Predicted State with respect to Observation"
   ]
  },
  {
   "cell_type": "code",
   "execution_count": 26,
   "id": "fcd23261",
   "metadata": {},
   "outputs": [
    {
     "name": "stdout",
     "output_type": "stream",
     "text": [
      "sunny\n",
      "sunny\n",
      "rainy\n",
      "rainy\n",
      "sunny\n",
      "sunny\n",
      "rainy\n",
      "sunny\n",
      "sunny\n"
     ]
    }
   ],
   "source": [
    "for prediction in predictions:\n",
    "    print(model.states[prediction].name)"
   ]
  },
  {
   "cell_type": "code",
   "execution_count": 27,
   "id": "e1803a56",
   "metadata": {},
   "outputs": [],
   "source": [
    "predicted_probabilities=model.predict_proba(observations)"
   ]
  },
  {
   "cell_type": "code",
   "execution_count": 33,
   "id": "9486d7ba",
   "metadata": {},
   "outputs": [],
   "source": [
    "Most_likely_Weather=k.DataFrame(predicted_probabilities,columns=[\"sunny\",\"rainy\"])"
   ]
  },
  {
   "cell_type": "code",
   "execution_count": 34,
   "id": "e40b7d11",
   "metadata": {},
   "outputs": [
    {
     "data": {
      "text/html": [
       "<div>\n",
       "<style scoped>\n",
       "    .dataframe tbody tr th:only-of-type {\n",
       "        vertical-align: middle;\n",
       "    }\n",
       "\n",
       "    .dataframe tbody tr th {\n",
       "        vertical-align: top;\n",
       "    }\n",
       "\n",
       "    .dataframe thead th {\n",
       "        text-align: right;\n",
       "    }\n",
       "</style>\n",
       "<table border=\"1\" class=\"dataframe\">\n",
       "  <thead>\n",
       "    <tr style=\"text-align: right;\">\n",
       "      <th></th>\n",
       "      <th>sunny</th>\n",
       "      <th>rainy</th>\n",
       "    </tr>\n",
       "  </thead>\n",
       "  <tbody>\n",
       "    <tr>\n",
       "      <th>0</th>\n",
       "      <td>0.399892</td>\n",
       "      <td>0.600108</td>\n",
       "    </tr>\n",
       "    <tr>\n",
       "      <th>1</th>\n",
       "      <td>0.306306</td>\n",
       "      <td>0.693694</td>\n",
       "    </tr>\n",
       "    <tr>\n",
       "      <th>2</th>\n",
       "      <td>0.859424</td>\n",
       "      <td>0.140576</td>\n",
       "    </tr>\n",
       "    <tr>\n",
       "      <th>3</th>\n",
       "      <td>0.855572</td>\n",
       "      <td>0.144428</td>\n",
       "    </tr>\n",
       "    <tr>\n",
       "      <th>4</th>\n",
       "      <td>0.266125</td>\n",
       "      <td>0.733875</td>\n",
       "    </tr>\n",
       "    <tr>\n",
       "      <th>5</th>\n",
       "      <td>0.248499</td>\n",
       "      <td>0.751501</td>\n",
       "    </tr>\n",
       "    <tr>\n",
       "      <th>6</th>\n",
       "      <td>0.730427</td>\n",
       "      <td>0.269573</td>\n",
       "    </tr>\n",
       "    <tr>\n",
       "      <th>7</th>\n",
       "      <td>0.225295</td>\n",
       "      <td>0.774705</td>\n",
       "    </tr>\n",
       "    <tr>\n",
       "      <th>8</th>\n",
       "      <td>0.171936</td>\n",
       "      <td>0.828064</td>\n",
       "    </tr>\n",
       "  </tbody>\n",
       "</table>\n",
       "</div>"
      ],
      "text/plain": [
       "      sunny     rainy\n",
       "0  0.399892  0.600108\n",
       "1  0.306306  0.693694\n",
       "2  0.859424  0.140576\n",
       "3  0.855572  0.144428\n",
       "4  0.266125  0.733875\n",
       "5  0.248499  0.751501\n",
       "6  0.730427  0.269573\n",
       "7  0.225295  0.774705\n",
       "8  0.171936  0.828064"
      ]
     },
     "execution_count": 34,
     "metadata": {},
     "output_type": "execute_result"
    }
   ],
   "source": [
    "Most_likely_Weather"
   ]
  },
  {
   "cell_type": "code",
   "execution_count": null,
   "id": "2204e205",
   "metadata": {},
   "outputs": [],
   "source": []
  }
 ],
 "metadata": {
  "kernelspec": {
   "display_name": "Python 3 (ipykernel)",
   "language": "python",
   "name": "python3"
  },
  "language_info": {
   "codemirror_mode": {
    "name": "ipython",
    "version": 3
   },
   "file_extension": ".py",
   "mimetype": "text/x-python",
   "name": "python",
   "nbconvert_exporter": "python",
   "pygments_lexer": "ipython3",
   "version": "3.9.18"
  }
 },
 "nbformat": 4,
 "nbformat_minor": 5
}
