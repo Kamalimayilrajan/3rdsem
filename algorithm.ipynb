{
 "cells": [
  {
   "cell_type": "markdown",
   "id": "57b72b64",
   "metadata": {},
   "source": [
    "# TASK - ALGORITHM"
   ]
  },
  {
   "cell_type": "code",
   "execution_count": 3,
   "id": "d2dc4d8a",
   "metadata": {},
   "outputs": [
    {
     "name": "stdout",
     "output_type": "stream",
     "text": [
      "enter the marks in sub1 40\n",
      "enter the marks in sub2 40\n",
      "enter the marks in sub3 40\n",
      "enter the marks in sub4 40\n",
      "you're passed\n"
     ]
    }
   ],
   "source": [
    "a=int(input(\"enter the marks in sub1\"))\n",
    "b=int(input(\"enter the marks in sub2\"))\n",
    "c=int(input(\"enter the marks in sub3\"))\n",
    "d=int(input(\"enter the marks in sub4\"))\n",
    "avg_marks=(a+b+c+d)/4\n",
    "if avg_marks>=40:\n",
    "    print(\"you're passed\")\n",
    "else:\n",
    "    print(\"you're failed\")"
   ]
  },
  {
   "cell_type": "code",
   "execution_count": 6,
   "id": "13888760",
   "metadata": {},
   "outputs": [
    {
     "name": "stdout",
     "output_type": "stream",
     "text": [
      "Enter the marks 1: 99\n",
      "Enter the marks 2: 99\n",
      "Enter the marks 3: 99\n",
      "Enter the marks 4: 99\n"
     ]
    }
   ],
   "source": [
    "Marks=[]\n",
    "for m in range(1,5):\n",
    "    Marks.append(int(input(f\"Enter the marks {m}:\")))\n",
    "    "
   ]
  },
  {
   "cell_type": "code",
   "execution_count": 8,
   "id": "e6d0c5df",
   "metadata": {},
   "outputs": [
    {
     "data": {
      "text/plain": [
       "99.0"
      ]
     },
     "execution_count": 8,
     "metadata": {},
     "output_type": "execute_result"
    }
   ],
   "source": [
    "avg=sum(Marks)/4\n",
    "avg"
   ]
  },
  {
   "cell_type": "code",
   "execution_count": 14,
   "id": "f3a680e6",
   "metadata": {},
   "outputs": [
    {
     "name": "stdout",
     "output_type": "stream",
     "text": [
      "you are passed\n"
     ]
    }
   ],
   "source": [
    "if avg>=50:\n",
    "    print(\"you are passed\")\n",
    "else:\n",
    "    print(\"you are failed\")"
   ]
  },
  {
   "cell_type": "code",
   "execution_count": null,
   "id": "16d7f2d1",
   "metadata": {},
   "outputs": [],
   "source": []
  }
 ],
 "metadata": {
  "kernelspec": {
   "display_name": "Python 3 (ipykernel)",
   "language": "python",
   "name": "python3"
  },
  "language_info": {
   "codemirror_mode": {
    "name": "ipython",
    "version": 3
   },
   "file_extension": ".py",
   "mimetype": "text/x-python",
   "name": "python",
   "nbconvert_exporter": "python",
   "pygments_lexer": "ipython3",
   "version": "3.9.17"
  }
 },
 "nbformat": 4,
 "nbformat_minor": 5
}
