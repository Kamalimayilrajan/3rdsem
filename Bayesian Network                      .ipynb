{
 "cells": [
  {
   "cell_type": "markdown",
   "id": "23f2d5c3",
   "metadata": {},
   "source": [
    "# Bayesian Network\n",
    "problem statement"
   ]
  },
  {
   "cell_type": "markdown",
   "id": "1bf92a40",
   "metadata": {},
   "source": [
    "imagine we have five nodes.cancer,smoking,abestrous consumption...xray...blood vomiting...now we have patient who by nature very less and was grown in an environment which has little bit of asbestrous around in the form of smokes or roof tops.he assumes he can develop cancer.during routine checkups there was a something unusual in xrays showing a tumour unfortunately the patient had blood vomitings\n",
    "\n"
   ]
  },
  {
   "cell_type": "markdown",
   "id": "fa42c19d",
   "metadata": {},
   "source": [
    "# pomegranate Library\n"
   ]
  },
  {
   "cell_type": "code",
   "execution_count": 8,
   "id": "fa852495",
   "metadata": {},
   "outputs": [
    {
     "name": "stdout",
     "output_type": "stream",
     "text": [
      "Requirement already satisfied: protopunica in c:\\users\\sn156\\anaconda3\\envs\\kamali\\lib\\site-packages (0.14.8)\n",
      "Requirement already satisfied: numpy>=1.20.0 in c:\\users\\sn156\\anaconda3\\envs\\kamali\\lib\\site-packages (from protopunica) (1.26.0)\n",
      "Requirement already satisfied: joblib>=0.9.0b4 in c:\\users\\sn156\\anaconda3\\envs\\kamali\\lib\\site-packages (from protopunica) (1.3.2)\n",
      "Requirement already satisfied: networkx>=2.4 in c:\\users\\sn156\\anaconda3\\envs\\kamali\\lib\\site-packages (from protopunica) (3.1)\n",
      "Requirement already satisfied: scipy>=0.17.0 in c:\\users\\sn156\\anaconda3\\envs\\kamali\\lib\\site-packages (from protopunica) (1.11.3)\n",
      "Requirement already satisfied: pyyaml in c:\\users\\sn156\\anaconda3\\envs\\kamali\\lib\\site-packages (from protopunica) (6.0.1)\n",
      "Note: you may need to restart the kernel to use updated packages.\n"
     ]
    }
   ],
   "source": [
    "pip install protopunica"
   ]
  },
  {
   "cell_type": "code",
   "execution_count": 9,
   "id": "6441c850",
   "metadata": {},
   "outputs": [],
   "source": [
    "from protopunica import *"
   ]
  },
  {
   "cell_type": "markdown",
   "id": "e255cfd1",
   "metadata": {},
   "source": [
    "protopunica is a python library that implements probabilistic models"
   ]
  },
  {
   "cell_type": "code",
   "execution_count": 10,
   "id": "5eaf902e",
   "metadata": {},
   "outputs": [],
   "source": [
    "Smoking = Node(DiscreteDistribution({\n",
    "    \"High Smoking\":0.7,\n",
    "    \"Low Smoking\":0.3\n",
    "    }),name=\"Smoking\")"
   ]
  },
  {
   "cell_type": "markdown",
   "id": "d92fa29b",
   "metadata": {},
   "source": [
    "smoking is a root node and is not having any parent nodes.smoking is a random variable that takes two values high smoking and low smoking\n"
   ]
  },
  {
   "cell_type": "code",
   "execution_count": 11,
   "id": "9d79503f",
   "metadata": {},
   "outputs": [],
   "source": [
    "asbes_consum=Node(DiscreteDistribution({\"High Cons\":0.3,\n",
    "                                       \"Low Cons\":0.7}),\n",
    "            name=\"asbes_consum\")"
   ]
  },
  {
   "cell_type": "markdown",
   "id": "6bfb6bca",
   "metadata": {},
   "source": [
    "asbestos consumption is also a root node which is not having any parents and has two values,High consumption and low consumption\n",
    "\n"
   ]
  },
  {
   "cell_type": "code",
   "execution_count": 12,
   "id": "606c87da",
   "metadata": {},
   "outputs": [],
   "source": [
    "cancer = Node(ConditionalProbabilityTable([\n",
    "    [\"High Smoking\",\"High Cons\",\"Pos\",0.4],\n",
    "    [\"High Smoking\",\"High Cons\",\"Neg\",0.6],\n",
    "    [\"High Smoking\",\"Low Cons\",\"Pos\",0.3],\n",
    "    [\"High Smoking\",\"Low Cons\",\"Neg\",0.7],\n",
    "    [\"Low Smoking\",\"Low Cons\",\"Pos\",0.1],\n",
    "    [\"Low Smoking\",\"Low Cons\",\"Neg\",0.9],\n",
    "    [\"Low Smoking\",\"High Cons\",\"Pos\",0.02],\n",
    "    [\"Low Smoking\",\"High Cons\",\"Neg\",0.98],\n",
    "],[Smoking.distribution,asbes_consum.distribution]),\n",
    "              name=\"cancer\")"
   ]
  },
  {
   "cell_type": "markdown",
   "id": "f5e0ba6a",
   "metadata": {},
   "source": [
    "cancer is a random variable which is conditionally depentent on smoking and asbestos.cancer takes two values positive and negative\n"
   ]
  },
  {
   "cell_type": "code",
   "execution_count": 13,
   "id": "dfc34a2f",
   "metadata": {},
   "outputs": [],
   "source": [
    "scan=Node(ConditionalProbabilityTable([\n",
    "    [\"Pos\",\"scan_Pos\",0.8],\n",
    "    [\"Pos\",\"scan_Neg\",0.2],\n",
    "    [\"Neg\",\"scan_Pos\",0.1],\n",
    "    [\"Neg\",\"scan_Neg\",0.9],\n",
    "],[cancer.distribution]),name=\"scan\")"
   ]
  },
  {
   "cell_type": "markdown",
   "id": "3bad74b4",
   "metadata": {},
   "source": [
    "scan(x-ray) is conditionally depentent on cancer .if there is cancer,there is a chance that the x-ray might reveal it.it takes two values positive and negative"
   ]
  },
  {
   "cell_type": "code",
   "execution_count": 14,
   "id": "f6149000",
   "metadata": {},
   "outputs": [],
   "source": [
    "Blood_vomitting=Node(ConditionalProbabilityTable([\n",
    "    [\"Pos\",\"B.V_Pos\",0.7],\n",
    "    [\"Pos\",\"B.V_Neg\",0.3],\n",
    "    [\"Neg\",\"B.V_Pos\",0.2],\n",
    "    [\"Neg\",\"B.V_Neg\",0.8]\n",
    "],[cancer.distribution]),name=\"Blood_vomitting\")"
   ]
  },
  {
   "cell_type": "markdown",
   "id": "809b59a6",
   "metadata": {},
   "source": [
    "patient sufffers from blood vomitting takes two values B.Vpos(Yes he has blood vomitting )and B.V neg (No he is not having any blood vomitting )\n",
    "\n"
   ]
  },
  {
   "cell_type": "markdown",
   "id": "cf86d583",
   "metadata": {},
   "source": [
    "# Model the Bayesian Network\n"
   ]
  },
  {
   "cell_type": "code",
   "execution_count": 15,
   "id": "671dd860",
   "metadata": {},
   "outputs": [],
   "source": [
    "model=BayesianNetwork()\n"
   ]
  },
  {
   "cell_type": "markdown",
   "id": "fb15fa19",
   "metadata": {},
   "source": [
    "# Add All The Nodes For The Network\n"
   ]
  },
  {
   "cell_type": "code",
   "execution_count": 16,
   "id": "a38aa221",
   "metadata": {},
   "outputs": [],
   "source": [
    "\n",
    "model.add_states(Smoking,asbes_consum,cancer,scan,Blood_vomitting)\n"
   ]
  },
  {
   "cell_type": "markdown",
   "id": "591d672b",
   "metadata": {},
   "source": [
    "# Create The Edges Which State the Conditional Independence and Dependence\n"
   ]
  },
  {
   "cell_type": "code",
   "execution_count": 17,
   "id": "dc7c8cd3",
   "metadata": {},
   "outputs": [],
   "source": [
    "model.add_edge(Smoking,cancer)\n",
    "model.add_edge(asbes_consum,cancer)\n",
    "model.add_edge(cancer,scan)\n",
    "model.add_edge(cancer,Blood_vomitting)\n"
   ]
  },
  {
   "cell_type": "markdown",
   "id": "69cfcb4a",
   "metadata": {},
   "source": [
    "# Bake The Model\n"
   ]
  },
  {
   "cell_type": "code",
   "execution_count": 18,
   "id": "e2f89166",
   "metadata": {},
   "outputs": [],
   "source": [
    "model.bake()"
   ]
  },
  {
   "cell_type": "code",
   "execution_count": 19,
   "id": "6a329abe",
   "metadata": {},
   "outputs": [
    {
     "data": {
      "text/plain": [
       "{\n",
       "    \"class\" : \"BayesianNetwork\",\n",
       "    \"name\" : \"2849979445744\",\n",
       "    \"structure\" : [\n",
       "        [],\n",
       "        [],\n",
       "        [\n",
       "            0,\n",
       "            1\n",
       "        ],\n",
       "        [\n",
       "            2\n",
       "        ],\n",
       "        [\n",
       "            2\n",
       "        ]\n",
       "    ],\n",
       "    \"states\" : [\n",
       "        {\n",
       "            \"class\" : \"State\",\n",
       "            \"distribution\" : {\n",
       "                \"class\" : \"Distribution\",\n",
       "                \"dtype\" : \"str\",\n",
       "                \"name\" : \"DiscreteDistribution\",\n",
       "                \"parameters\" : [\n",
       "                    {\n",
       "                        \"High Smoking\" : 0.7,\n",
       "                        \"Low Smoking\" : 0.3\n",
       "                    }\n",
       "                ],\n",
       "                \"frozen\" : false\n",
       "            },\n",
       "            \"name\" : \"Smoking\",\n",
       "            \"weight\" : 1.0\n",
       "        },\n",
       "        {\n",
       "            \"class\" : \"State\",\n",
       "            \"distribution\" : {\n",
       "                \"class\" : \"Distribution\",\n",
       "                \"dtype\" : \"str\",\n",
       "                \"name\" : \"DiscreteDistribution\",\n",
       "                \"parameters\" : [\n",
       "                    {\n",
       "                        \"High Cons\" : 0.3,\n",
       "                        \"Low Cons\" : 0.7\n",
       "                    }\n",
       "                ],\n",
       "                \"frozen\" : false\n",
       "            },\n",
       "            \"name\" : \"asbes_consum\",\n",
       "            \"weight\" : 1.0\n",
       "        },\n",
       "        {\n",
       "            \"class\" : \"State\",\n",
       "            \"distribution\" : {\n",
       "                \"class\" : \"Distribution\",\n",
       "                \"name\" : \"ConditionalProbabilityTable\",\n",
       "                \"table\" : [\n",
       "                    [\n",
       "                        \"High Smoking\",\n",
       "                        \"High Cons\",\n",
       "                        \"Pos\",\n",
       "                        \"0.4\"\n",
       "                    ],\n",
       "                    [\n",
       "                        \"High Smoking\",\n",
       "                        \"High Cons\",\n",
       "                        \"Neg\",\n",
       "                        \"0.6\"\n",
       "                    ],\n",
       "                    [\n",
       "                        \"High Smoking\",\n",
       "                        \"Low Cons\",\n",
       "                        \"Pos\",\n",
       "                        \"0.3\"\n",
       "                    ],\n",
       "                    [\n",
       "                        \"High Smoking\",\n",
       "                        \"Low Cons\",\n",
       "                        \"Neg\",\n",
       "                        \"0.7\"\n",
       "                    ],\n",
       "                    [\n",
       "                        \"Low Smoking\",\n",
       "                        \"Low Cons\",\n",
       "                        \"Pos\",\n",
       "                        \"0.10000000000000002\"\n",
       "                    ],\n",
       "                    [\n",
       "                        \"Low Smoking\",\n",
       "                        \"Low Cons\",\n",
       "                        \"Neg\",\n",
       "                        \"0.9\"\n",
       "                    ],\n",
       "                    [\n",
       "                        \"Low Smoking\",\n",
       "                        \"High Cons\",\n",
       "                        \"Pos\",\n",
       "                        \"0.02\"\n",
       "                    ],\n",
       "                    [\n",
       "                        \"Low Smoking\",\n",
       "                        \"High Cons\",\n",
       "                        \"Neg\",\n",
       "                        \"0.98\"\n",
       "                    ]\n",
       "                ],\n",
       "                \"dtypes\" : [\n",
       "                    \"str\",\n",
       "                    \"str\",\n",
       "                    \"str\",\n",
       "                    \"float\"\n",
       "                ],\n",
       "                \"parents\" : [\n",
       "                    {\n",
       "                        \"class\" : \"Distribution\",\n",
       "                        \"dtype\" : \"str\",\n",
       "                        \"name\" : \"DiscreteDistribution\",\n",
       "                        \"parameters\" : [\n",
       "                            {\n",
       "                                \"High Smoking\" : 0.7,\n",
       "                                \"Low Smoking\" : 0.3\n",
       "                            }\n",
       "                        ],\n",
       "                        \"frozen\" : false\n",
       "                    },\n",
       "                    {\n",
       "                        \"class\" : \"Distribution\",\n",
       "                        \"dtype\" : \"str\",\n",
       "                        \"name\" : \"DiscreteDistribution\",\n",
       "                        \"parameters\" : [\n",
       "                            {\n",
       "                                \"High Cons\" : 0.3,\n",
       "                                \"Low Cons\" : 0.7\n",
       "                            }\n",
       "                        ],\n",
       "                        \"frozen\" : false\n",
       "                    }\n",
       "                ]\n",
       "            },\n",
       "            \"name\" : \"cancer\",\n",
       "            \"weight\" : 1.0\n",
       "        },\n",
       "        {\n",
       "            \"class\" : \"State\",\n",
       "            \"distribution\" : {\n",
       "                \"class\" : \"Distribution\",\n",
       "                \"name\" : \"ConditionalProbabilityTable\",\n",
       "                \"table\" : [\n",
       "                    [\n",
       "                        \"Pos\",\n",
       "                        \"scan_Pos\",\n",
       "                        \"0.8\"\n",
       "                    ],\n",
       "                    [\n",
       "                        \"Pos\",\n",
       "                        \"scan_Neg\",\n",
       "                        \"0.2\"\n",
       "                    ],\n",
       "                    [\n",
       "                        \"Neg\",\n",
       "                        \"scan_Pos\",\n",
       "                        \"0.10000000000000002\"\n",
       "                    ],\n",
       "                    [\n",
       "                        \"Neg\",\n",
       "                        \"scan_Neg\",\n",
       "                        \"0.9\"\n",
       "                    ]\n",
       "                ],\n",
       "                \"dtypes\" : [\n",
       "                    \"str\",\n",
       "                    \"str\",\n",
       "                    \"float\"\n",
       "                ],\n",
       "                \"parents\" : [\n",
       "                    {\n",
       "                        \"class\" : \"Distribution\",\n",
       "                        \"name\" : \"ConditionalProbabilityTable\",\n",
       "                        \"table\" : [\n",
       "                            [\n",
       "                                \"High Smoking\",\n",
       "                                \"High Cons\",\n",
       "                                \"Pos\",\n",
       "                                \"0.4\"\n",
       "                            ],\n",
       "                            [\n",
       "                                \"High Smoking\",\n",
       "                                \"High Cons\",\n",
       "                                \"Neg\",\n",
       "                                \"0.6\"\n",
       "                            ],\n",
       "                            [\n",
       "                                \"High Smoking\",\n",
       "                                \"Low Cons\",\n",
       "                                \"Pos\",\n",
       "                                \"0.3\"\n",
       "                            ],\n",
       "                            [\n",
       "                                \"High Smoking\",\n",
       "                                \"Low Cons\",\n",
       "                                \"Neg\",\n",
       "                                \"0.7\"\n",
       "                            ],\n",
       "                            [\n",
       "                                \"Low Smoking\",\n",
       "                                \"High Cons\",\n",
       "                                \"Pos\",\n",
       "                                \"0.02\"\n",
       "                            ],\n",
       "                            [\n",
       "                                \"Low Smoking\",\n",
       "                                \"High Cons\",\n",
       "                                \"Neg\",\n",
       "                                \"0.98\"\n",
       "                            ],\n",
       "                            [\n",
       "                                \"Low Smoking\",\n",
       "                                \"Low Cons\",\n",
       "                                \"Pos\",\n",
       "                                \"0.10000000000000002\"\n",
       "                            ],\n",
       "                            [\n",
       "                                \"Low Smoking\",\n",
       "                                \"Low Cons\",\n",
       "                                \"Neg\",\n",
       "                                \"0.9\"\n",
       "                            ]\n",
       "                        ],\n",
       "                        \"dtypes\" : [\n",
       "                            \"str\",\n",
       "                            \"str\",\n",
       "                            \"str\",\n",
       "                            \"float\"\n",
       "                        ],\n",
       "                        \"parents\" : [\n",
       "                            {\n",
       "                                \"class\" : \"Distribution\",\n",
       "                                \"dtype\" : \"str\",\n",
       "                                \"name\" : \"DiscreteDistribution\",\n",
       "                                \"parameters\" : [\n",
       "                                    {\n",
       "                                        \"High Smoking\" : 0.7,\n",
       "                                        \"Low Smoking\" : 0.3\n",
       "                                    }\n",
       "                                ],\n",
       "                                \"frozen\" : false\n",
       "                            },\n",
       "                            {\n",
       "                                \"class\" : \"Distribution\",\n",
       "                                \"dtype\" : \"str\",\n",
       "                                \"name\" : \"DiscreteDistribution\",\n",
       "                                \"parameters\" : [\n",
       "                                    {\n",
       "                                        \"High Cons\" : 0.3,\n",
       "                                        \"Low Cons\" : 0.7\n",
       "                                    }\n",
       "                                ],\n",
       "                                \"frozen\" : false\n",
       "                            }\n",
       "                        ]\n",
       "                    }\n",
       "                ]\n",
       "            },\n",
       "            \"name\" : \"scan\",\n",
       "            \"weight\" : 1.0\n",
       "        },\n",
       "        {\n",
       "            \"class\" : \"State\",\n",
       "            \"distribution\" : {\n",
       "                \"class\" : \"Distribution\",\n",
       "                \"name\" : \"ConditionalProbabilityTable\",\n",
       "                \"table\" : [\n",
       "                    [\n",
       "                        \"Pos\",\n",
       "                        \"B.V_Pos\",\n",
       "                        \"0.7\"\n",
       "                    ],\n",
       "                    [\n",
       "                        \"Pos\",\n",
       "                        \"B.V_Neg\",\n",
       "                        \"0.3\"\n",
       "                    ],\n",
       "                    [\n",
       "                        \"Neg\",\n",
       "                        \"B.V_Pos\",\n",
       "                        \"0.2\"\n",
       "                    ],\n",
       "                    [\n",
       "                        \"Neg\",\n",
       "                        \"B.V_Neg\",\n",
       "                        \"0.8\"\n",
       "                    ]\n",
       "                ],\n",
       "                \"dtypes\" : [\n",
       "                    \"str\",\n",
       "                    \"str\",\n",
       "                    \"float\"\n",
       "                ],\n",
       "                \"parents\" : [\n",
       "                    {\n",
       "                        \"class\" : \"Distribution\",\n",
       "                        \"name\" : \"ConditionalProbabilityTable\",\n",
       "                        \"table\" : [\n",
       "                            [\n",
       "                                \"High Smoking\",\n",
       "                                \"High Cons\",\n",
       "                                \"Pos\",\n",
       "                                \"0.4\"\n",
       "                            ],\n",
       "                            [\n",
       "                                \"High Smoking\",\n",
       "                                \"High Cons\",\n",
       "                                \"Neg\",\n",
       "                                \"0.6\"\n",
       "                            ],\n",
       "                            [\n",
       "                                \"High Smoking\",\n",
       "                                \"Low Cons\",\n",
       "                                \"Pos\",\n",
       "                                \"0.3\"\n",
       "                            ],\n",
       "                            [\n",
       "                                \"High Smoking\",\n",
       "                                \"Low Cons\",\n",
       "                                \"Neg\",\n",
       "                                \"0.7\"\n",
       "                            ],\n",
       "                            [\n",
       "                                \"Low Smoking\",\n",
       "                                \"High Cons\",\n",
       "                                \"Pos\",\n",
       "                                \"0.02\"\n",
       "                            ],\n",
       "                            [\n",
       "                                \"Low Smoking\",\n",
       "                                \"High Cons\",\n",
       "                                \"Neg\",\n",
       "                                \"0.98\"\n",
       "                            ],\n",
       "                            [\n",
       "                                \"Low Smoking\",\n",
       "                                \"Low Cons\",\n",
       "                                \"Pos\",\n",
       "                                \"0.10000000000000002\"\n",
       "                            ],\n",
       "                            [\n",
       "                                \"Low Smoking\",\n",
       "                                \"Low Cons\",\n",
       "                                \"Neg\",\n",
       "                                \"0.9\"\n",
       "                            ]\n",
       "                        ],\n",
       "                        \"dtypes\" : [\n",
       "                            \"str\",\n",
       "                            \"str\",\n",
       "                            \"str\",\n",
       "                            \"float\"\n",
       "                        ],\n",
       "                        \"parents\" : [\n",
       "                            {\n",
       "                                \"class\" : \"Distribution\",\n",
       "                                \"dtype\" : \"str\",\n",
       "                                \"name\" : \"DiscreteDistribution\",\n",
       "                                \"parameters\" : [\n",
       "                                    {\n",
       "                                        \"High Smoking\" : 0.7,\n",
       "                                        \"Low Smoking\" : 0.3\n",
       "                                    }\n",
       "                                ],\n",
       "                                \"frozen\" : false\n",
       "                            },\n",
       "                            {\n",
       "                                \"class\" : \"Distribution\",\n",
       "                                \"dtype\" : \"str\",\n",
       "                                \"name\" : \"DiscreteDistribution\",\n",
       "                                \"parameters\" : [\n",
       "                                    {\n",
       "                                        \"High Cons\" : 0.3,\n",
       "                                        \"Low Cons\" : 0.7\n",
       "                                    }\n",
       "                                ],\n",
       "                                \"frozen\" : false\n",
       "                            }\n",
       "                        ]\n",
       "                    }\n",
       "                ]\n",
       "            },\n",
       "            \"name\" : \"Blood_vomitting\",\n",
       "            \"weight\" : 1.0\n",
       "        }\n",
       "    ]\n",
       "}"
      ]
     },
     "execution_count": 19,
     "metadata": {},
     "output_type": "execute_result"
    }
   ],
   "source": [
    "model"
   ]
  },
  {
   "cell_type": "markdown",
   "id": "febed7bf",
   "metadata": {},
   "source": [
    "# Find The Probability For a Given Set Of Conditions"
   ]
  },
  {
   "cell_type": "markdown",
   "id": "06fd0565",
   "metadata": {},
   "source": [
    "# What is the Probablity that a patient might have cancer"
   ]
  },
  {
   "cell_type": "markdown",
   "id": "2d4fbdcc",
   "metadata": {},
   "source": [
    "with both blood vomitting and positive but the patient does not smoke or does not inhale asbestos "
   ]
  },
  {
   "cell_type": "markdown",
   "id": "5cf84236",
   "metadata": {},
   "source": [
    "# P(B.V,X,C-S,-AC)"
   ]
  },
  {
   "cell_type": "code",
   "execution_count": 20,
   "id": "0a1978b6",
   "metadata": {},
   "outputs": [],
   "source": [
    "probability=model.probability([[\"Low Smoking\",\"Low Cons\",\"Pos\",\"scan_Pos\",\"B.V_Pos\"]])"
   ]
  },
  {
   "cell_type": "code",
   "execution_count": 21,
   "id": "1d13e737",
   "metadata": {},
   "outputs": [
    {
     "data": {
      "text/plain": [
       "0.011759999999999998"
      ]
     },
     "execution_count": 21,
     "metadata": {},
     "output_type": "execute_result"
    }
   ],
   "source": [
    "probability"
   ]
  },
  {
   "cell_type": "code",
   "execution_count": 22,
   "id": "3c7b1e45",
   "metadata": {},
   "outputs": [
    {
     "name": "stdout",
     "output_type": "stream",
     "text": [
      "[array(['Low Smoking', 'Low Cons', 'Neg', 'scan_Pos', 'B.V_Neg'],\n",
      "      dtype=object)]\n"
     ]
    }
   ],
   "source": [
    ">>> print(model.predict([[\"Low Smoking\",\"Low Cons\",\"Neg\",\"scan_Pos\",None]]))"
   ]
  },
  {
   "cell_type": "code",
   "execution_count": 28,
   "id": "b46b1395",
   "metadata": {},
   "outputs": [],
   "source": [
    "prediction=model.predict_proba({\"Blood_vomitting\":\"B.V_Pos\"})"
   ]
  },
  {
   "cell_type": "code",
   "execution_count": 29,
   "id": "8be75e3f",
   "metadata": {},
   "outputs": [
    {
     "data": {
      "text/plain": [
       "array([{\n",
       "           \"class\" : \"Distribution\",\n",
       "           \"dtype\" : \"str\",\n",
       "           \"name\" : \"DiscreteDistribution\",\n",
       "           \"parameters\" : [\n",
       "               {\n",
       "                   \"High Smoking\" : 0.7815845824411132,\n",
       "                   \"Low Smoking\" : 0.21841541755888677\n",
       "               }\n",
       "           ],\n",
       "           \"frozen\" : false\n",
       "       }                                               ,\n",
       "       {\n",
       "           \"class\" : \"Distribution\",\n",
       "           \"dtype\" : \"str\",\n",
       "           \"name\" : \"DiscreteDistribution\",\n",
       "           \"parameters\" : [\n",
       "               {\n",
       "                   \"High Cons\" : 0.314775160599572,\n",
       "                   \"Low Cons\" : 0.6852248394004281\n",
       "               }\n",
       "           ],\n",
       "           \"frozen\" : false\n",
       "       }                                           ,\n",
       "       {\n",
       "           \"class\" : \"Distribution\",\n",
       "           \"dtype\" : \"str\",\n",
       "           \"name\" : \"DiscreteDistribution\",\n",
       "           \"parameters\" : [\n",
       "               {\n",
       "                   \"Pos\" : 0.5434689507494648,\n",
       "                   \"Neg\" : 0.45653104925053517\n",
       "               }\n",
       "           ],\n",
       "           \"frozen\" : false\n",
       "       }                                      ,\n",
       "       {\n",
       "           \"class\" : \"Distribution\",\n",
       "           \"dtype\" : \"str\",\n",
       "           \"name\" : \"DiscreteDistribution\",\n",
       "           \"parameters\" : [\n",
       "               {\n",
       "                   \"scan_Pos\" : 0.48042826552462525,\n",
       "                   \"scan_Neg\" : 0.5195717344753747\n",
       "               }\n",
       "           ],\n",
       "           \"frozen\" : false\n",
       "       }                                            , 'B.V_Pos'],\n",
       "      dtype=object)"
      ]
     },
     "execution_count": 29,
     "metadata": {},
     "output_type": "execute_result"
    }
   ],
   "source": [
    "prediction"
   ]
  },
  {
   "cell_type": "code",
   "execution_count": null,
   "id": "05b20f73",
   "metadata": {},
   "outputs": [],
   "source": []
  }
 ],
 "metadata": {
  "kernelspec": {
   "display_name": "Python 3 (ipykernel)",
   "language": "python",
   "name": "python3"
  },
  "language_info": {
   "codemirror_mode": {
    "name": "ipython",
    "version": 3
   },
   "file_extension": ".py",
   "mimetype": "text/x-python",
   "name": "python",
   "nbconvert_exporter": "python",
   "pygments_lexer": "ipython3",
   "version": "3.9.18"
  }
 },
 "nbformat": 4,
 "nbformat_minor": 5
}
