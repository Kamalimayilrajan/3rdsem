{
 "cells": [
  {
   "cell_type": "code",
   "execution_count": 11,
   "id": "defa2790",
   "metadata": {},
   "outputs": [],
   "source": [
    "DETAILS={1:\"kamali\",2:\"122011012803\",3:\"B.Tech CSE\",4:\"PMIST\"}"
   ]
  },
  {
   "cell_type": "code",
   "execution_count": 12,
   "id": "2591cfbc",
   "metadata": {},
   "outputs": [
    {
     "data": {
      "text/plain": [
       "'kamali'"
      ]
     },
     "execution_count": 12,
     "metadata": {},
     "output_type": "execute_result"
    }
   ],
   "source": [
    "DETAILS[1]"
   ]
  },
  {
   "cell_type": "code",
   "execution_count": 13,
   "id": "852e6da5",
   "metadata": {},
   "outputs": [
    {
     "name": "stdout",
     "output_type": "stream",
     "text": [
      "My name is kamali.My register number is 122011012803.I am studying B.Tech CSE in PMIST\n"
     ]
    }
   ],
   "source": [
    "print(\"My name is {}.My register number is {}.I am studying {} in {}\".format(DETAILS[1],DETAILS[2],DETAILS[3],DETAILS[4]))"
   ]
  },
  {
   "cell_type": "code",
   "execution_count": null,
   "id": "48e991a6",
   "metadata": {},
   "outputs": [],
   "source": []
  }
 ],
 "metadata": {
  "kernelspec": {
   "display_name": "Python 3 (ipykernel)",
   "language": "python",
   "name": "python3"
  },
  "language_info": {
   "codemirror_mode": {
    "name": "ipython",
    "version": 3
   },
   "file_extension": ".py",
   "mimetype": "text/x-python",
   "name": "python",
   "nbconvert_exporter": "python",
   "pygments_lexer": "ipython3",
   "version": "3.11.4"
  }
 },
 "nbformat": 4,
 "nbformat_minor": 5
}
