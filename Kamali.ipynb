{
 "cells": [
  {
   "cell_type": "code",
   "execution_count": 1,
   "id": "27d4e5a2",
   "metadata": {},
   "outputs": [
    {
     "name": "stdout",
     "output_type": "stream",
     "text": [
      "Requirement already satisfied: numpy in c:\\users\\thanigai\\anaconda\\envs\\robotics\\lib\\site-packages (1.25.2)\n",
      "Note: you may need to restart the kernel to use updated packages.\n"
     ]
    }
   ],
   "source": [
    "pip install numpy"
   ]
  },
  {
   "cell_type": "code",
   "execution_count": 2,
   "id": "6e863d92",
   "metadata": {},
   "outputs": [],
   "source": [
    "import numpy as n"
   ]
  },
  {
   "cell_type": "code",
   "execution_count": 3,
   "id": "4337610a",
   "metadata": {},
   "outputs": [],
   "source": [
    "list=[1,13,15,20]"
   ]
  },
  {
   "cell_type": "code",
   "execution_count": 4,
   "id": "b7da7e33",
   "metadata": {},
   "outputs": [
    {
     "data": {
      "text/plain": [
       "list"
      ]
     },
     "execution_count": 4,
     "metadata": {},
     "output_type": "execute_result"
    }
   ],
   "source": [
    "type(list)"
   ]
  },
  {
   "cell_type": "code",
   "execution_count": 5,
   "id": "1e336a2c",
   "metadata": {},
   "outputs": [],
   "source": [
    "values=(15,30,66,44)"
   ]
  },
  {
   "cell_type": "code",
   "execution_count": 6,
   "id": "d1798469",
   "metadata": {},
   "outputs": [
    {
     "data": {
      "text/plain": [
       "tuple"
      ]
     },
     "execution_count": 6,
     "metadata": {},
     "output_type": "execute_result"
    }
   ],
   "source": [
    "type(values)"
   ]
  },
  {
   "cell_type": "code",
   "execution_count": 9,
   "id": "d109a62b",
   "metadata": {},
   "outputs": [
    {
     "name": "stdout",
     "output_type": "stream",
     "text": [
      "range(0, 100)\n"
     ]
    }
   ],
   "source": [
    "A=range(0,100)\n",
    "print(A)"
   ]
  },
  {
   "cell_type": "code",
   "execution_count": 10,
   "id": "8bd3c858",
   "metadata": {},
   "outputs": [],
   "source": [
    "NAME={1:\"KAMALI\",2:\"KHATIJA\",3:\"AFRA\",4:\"DIVYA\"}\n"
   ]
  },
  {
   "cell_type": "code",
   "execution_count": 11,
   "id": "b233f530",
   "metadata": {},
   "outputs": [
    {
     "data": {
      "text/plain": [
       "dict"
      ]
     },
     "execution_count": 11,
     "metadata": {},
     "output_type": "execute_result"
    }
   ],
   "source": [
    "type(NAME)"
   ]
  },
  {
   "cell_type": "code",
   "execution_count": 12,
   "id": "94d249b5",
   "metadata": {},
   "outputs": [
    {
     "data": {
      "text/plain": [
       "dict_values(['KAMALI', 'KHATIJA', 'AFRA', 'DIVYA'])"
      ]
     },
     "execution_count": 12,
     "metadata": {},
     "output_type": "execute_result"
    }
   ],
   "source": [
    "NAME.values()"
   ]
  },
  {
   "cell_type": "code",
   "execution_count": 13,
   "id": "7b6aa8d3",
   "metadata": {},
   "outputs": [
    {
     "data": {
      "text/plain": [
       "dict_keys([1, 2, 3, 4])"
      ]
     },
     "execution_count": 13,
     "metadata": {},
     "output_type": "execute_result"
    }
   ],
   "source": [
    "NAME.keys()"
   ]
  },
  {
   "cell_type": "code",
   "execution_count": 14,
   "id": "c23ddc6d",
   "metadata": {},
   "outputs": [
    {
     "data": {
      "text/plain": [
       "{1: 'KAMALI', 2: 'KHATIJA', 3: 'AFRA', 4: 'DIVYA'}"
      ]
     },
     "execution_count": 14,
     "metadata": {},
     "output_type": "execute_result"
    }
   ],
   "source": [
    "NAME"
   ]
  },
  {
   "cell_type": "code",
   "execution_count": 15,
   "id": "33019264",
   "metadata": {},
   "outputs": [
    {
     "data": {
      "text/plain": [
       "'KAMALI'"
      ]
     },
     "execution_count": 15,
     "metadata": {},
     "output_type": "execute_result"
    }
   ],
   "source": [
    "NAME[1]"
   ]
  },
  {
   "cell_type": "code",
   "execution_count": 16,
   "id": "e6accf7b",
   "metadata": {},
   "outputs": [],
   "source": [
    "DETAILS={\"NAME\":\"KAMALI\",\"AGE\":20,'BG':'A+VE'}"
   ]
  },
  {
   "cell_type": "code",
   "execution_count": 17,
   "id": "822abc4d",
   "metadata": {},
   "outputs": [
    {
     "data": {
      "text/plain": [
       "'KAMALI'"
      ]
     },
     "execution_count": 17,
     "metadata": {},
     "output_type": "execute_result"
    }
   ],
   "source": [
    "DETAILS[\"NAME\"]"
   ]
  },
  {
   "cell_type": "code",
   "execution_count": 23,
   "id": "415be75e",
   "metadata": {},
   "outputs": [
    {
     "data": {
      "text/plain": [
       "dict"
      ]
     },
     "execution_count": 23,
     "metadata": {},
     "output_type": "execute_result"
    }
   ],
   "source": [
    "type(DETAILS)"
   ]
  },
  {
   "cell_type": "code",
   "execution_count": 18,
   "id": "b51903b0",
   "metadata": {},
   "outputs": [
    {
     "data": {
      "text/plain": [
       "3"
      ]
     },
     "execution_count": 18,
     "metadata": {},
     "output_type": "execute_result"
    }
   ],
   "source": [
    "len(DETAILS)"
   ]
  },
  {
   "cell_type": "code",
   "execution_count": 19,
   "id": "eedec5ef",
   "metadata": {},
   "outputs": [
    {
     "data": {
      "text/plain": [
       "'A+VE'"
      ]
     },
     "execution_count": 19,
     "metadata": {},
     "output_type": "execute_result"
    }
   ],
   "source": [
    "DETAILS.pop('BG')"
   ]
  },
  {
   "cell_type": "code",
   "execution_count": 20,
   "id": "021a3230",
   "metadata": {},
   "outputs": [
    {
     "data": {
      "text/plain": [
       "{'NAME': 'KAMALI', 'AGE': 20}"
      ]
     },
     "execution_count": 20,
     "metadata": {},
     "output_type": "execute_result"
    }
   ],
   "source": [
    "DETAILS"
   ]
  },
  {
   "cell_type": "code",
   "execution_count": 26,
   "id": "2fc744d1",
   "metadata": {},
   "outputs": [],
   "source": [
    "DETAILS2={\"NAME:KAMALI\",\"AGE:20\",\"BG:A+VE\"}"
   ]
  },
  {
   "cell_type": "code",
   "execution_count": 27,
   "id": "57eeca88",
   "metadata": {},
   "outputs": [
    {
     "data": {
      "text/plain": [
       "set"
      ]
     },
     "execution_count": 27,
     "metadata": {},
     "output_type": "execute_result"
    }
   ],
   "source": [
    "type(DETAILS2)"
   ]
  },
  {
   "cell_type": "code",
   "execution_count": 28,
   "id": "7c3692fe",
   "metadata": {},
   "outputs": [],
   "source": [
    "DETAILS2.add(\"COLLEGE:PMIST\")"
   ]
  },
  {
   "cell_type": "code",
   "execution_count": 29,
   "id": "b922a661",
   "metadata": {},
   "outputs": [
    {
     "data": {
      "text/plain": [
       "{'AGE:20', 'BG:A+VE', 'COLLEGE:PMIST', 'NAME:KAMALI'}"
      ]
     },
     "execution_count": 29,
     "metadata": {},
     "output_type": "execute_result"
    }
   ],
   "source": [
    "DETAILS2"
   ]
  },
  {
   "cell_type": "code",
   "execution_count": 30,
   "id": "ca719b27",
   "metadata": {},
   "outputs": [],
   "source": [
    "DETAILS2.update({\"COURSE:B.TECH CSE\"})"
   ]
  },
  {
   "cell_type": "code",
   "execution_count": 31,
   "id": "7162bd27",
   "metadata": {},
   "outputs": [
    {
     "data": {
      "text/plain": [
       "{'AGE:20', 'BG:A+VE', 'COLLEGE:PMIST', 'COURSE:B.TECH CSE', 'NAME:KAMALI'}"
      ]
     },
     "execution_count": 31,
     "metadata": {},
     "output_type": "execute_result"
    }
   ],
   "source": [
    "DETAILS2"
   ]
  },
  {
   "cell_type": "code",
   "execution_count": 32,
   "id": "40db5be4",
   "metadata": {},
   "outputs": [],
   "source": [
    "DETAILS3=frozenset({\"AIML\"})"
   ]
  },
  {
   "cell_type": "code",
   "execution_count": 33,
   "id": "ae61e52e",
   "metadata": {},
   "outputs": [
    {
     "data": {
      "text/plain": [
       "frozenset"
      ]
     },
     "execution_count": 33,
     "metadata": {},
     "output_type": "execute_result"
    }
   ],
   "source": [
    "type(DETAILS3)"
   ]
  },
  {
   "cell_type": "code",
   "execution_count": 34,
   "id": "80d53131",
   "metadata": {},
   "outputs": [
    {
     "data": {
      "text/plain": [
       "False"
      ]
     },
     "execution_count": 34,
     "metadata": {},
     "output_type": "execute_result"
    }
   ],
   "source": [
    "a=10\n",
    "b=5\n",
    "a<b"
   ]
  },
  {
   "cell_type": "code",
   "execution_count": 35,
   "id": "16e5c95d",
   "metadata": {},
   "outputs": [
    {
     "data": {
      "text/plain": [
       "True"
      ]
     },
     "execution_count": 35,
     "metadata": {},
     "output_type": "execute_result"
    }
   ],
   "source": [
    "a=20\n",
    "b=14\n",
    "a>b"
   ]
  },
  {
   "cell_type": "code",
   "execution_count": null,
   "id": "57c2eace",
   "metadata": {},
   "outputs": [],
   "source": []
  }
 ],
 "metadata": {
  "kernelspec": {
   "display_name": "Python 3 (ipykernel)",
   "language": "python",
   "name": "python3"
  },
  "language_info": {
   "codemirror_mode": {
    "name": "ipython",
    "version": 3
   },
   "file_extension": ".py",
   "mimetype": "text/x-python",
   "name": "python",
   "nbconvert_exporter": "python",
   "pygments_lexer": "ipython3",
   "version": "3.11.4"
  }
 },
 "nbformat": 4,
 "nbformat_minor": 5
}
