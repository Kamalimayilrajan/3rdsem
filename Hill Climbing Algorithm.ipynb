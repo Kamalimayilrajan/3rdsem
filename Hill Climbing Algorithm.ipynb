{
 "cells": [
  {
   "cell_type": "markdown",
   "id": "631e8f9f",
   "metadata": {},
   "source": [
    "# HILL CLIMBING ALGORITHM"
   ]
  },
  {
   "cell_type": "markdown",
   "id": "58ac468b",
   "metadata": {},
   "source": [
    "Finding the best possible shortest route among these cities to travel\n",
    "\n",
    "Chennai - Bangalore = 347\n",
    "\n",
    "Chennai - Delhi = 2196\n",
    "\n",
    "Chennai - Kolkata = 1667\n",
    "\n",
    "Bangalore - Delhi = 2164\n",
    "\n",
    "Bangalore - Kolkata = 1875\n",
    "\n",
    "Delhi - Kolkata = 1559\n",
    "\n",
    "All Values in kms"
   ]
  },
  {
   "cell_type": "markdown",
   "id": "8e99de91",
   "metadata": {},
   "source": [
    "# Importing Random Library"
   ]
  },
  {
   "cell_type": "code",
   "execution_count": 1,
   "id": "fa58f034",
   "metadata": {},
   "outputs": [],
   "source": [
    "import random"
   ]
  },
  {
   "cell_type": "markdown",
   "id": "b5cfc90a",
   "metadata": {},
   "source": [
    "# Travelling States Main City Distances"
   ]
  },
  {
   "cell_type": "code",
   "execution_count": 2,
   "id": "395a1d18",
   "metadata": {},
   "outputs": [],
   "source": [
    "tsp = [[0,347,2196,1667],\n",
    "      [347,0,2164,1875],\n",
    "      [2167,2164,0,1559],\n",
    "      [1667,1875,1559,0]]"
   ]
  },
  {
   "cell_type": "markdown",
   "id": "4ec3ee2c",
   "metadata": {},
   "source": [
    "# Random Solution Generator"
   ]
  },
  {
   "cell_type": "code",
   "execution_count": 3,
   "id": "bbb59074",
   "metadata": {},
   "outputs": [],
   "source": [
    "def randomSolution(tsp):\n",
    "    cities = list(range(len(tsp)))\n",
    "    solution = []\n",
    "    \n",
    "    for i in range(len(tsp)):\n",
    "        randomCity=cities[random.randint(0,len(cities)-1)]\n",
    "        solution.append(randomCity)\n",
    "        cities.remove(randomCity)\n",
    "        \n",
    "    return solution"
   ]
  },
  {
   "cell_type": "code",
   "execution_count": 4,
   "id": "43634802",
   "metadata": {},
   "outputs": [
    {
     "name": "stdout",
     "output_type": "stream",
     "text": [
      "[1, 2, 3, 0]\n"
     ]
    }
   ],
   "source": [
    "solution=randomSolution(tsp)\n",
    "print(solution)"
   ]
  },
  {
   "cell_type": "markdown",
   "id": "3e46c30c",
   "metadata": {},
   "source": [
    "# Calculating Length of Route"
   ]
  },
  {
   "cell_type": "code",
   "execution_count": 5,
   "id": "3fd775e3",
   "metadata": {},
   "outputs": [],
   "source": [
    "def routelength(tsp,solution):\n",
    "    routelength = 0\n",
    "    for i in range(len(solution)):\n",
    "        routelength +=tsp[solution[i-1]][solution[i]]\n",
    "    return routelength"
   ]
  },
  {
   "cell_type": "code",
   "execution_count": 6,
   "id": "2d4ff43e",
   "metadata": {},
   "outputs": [
    {
     "data": {
      "text/plain": [
       "5737"
      ]
     },
     "execution_count": 6,
     "metadata": {},
     "output_type": "execute_result"
    }
   ],
   "source": [
    "routelength(tsp,solution)"
   ]
  },
  {
   "cell_type": "markdown",
   "id": "cf880cb7",
   "metadata": {},
   "source": [
    "# Generating Neighbours"
   ]
  },
  {
   "cell_type": "code",
   "execution_count": 7,
   "id": "4c8e4e10",
   "metadata": {},
   "outputs": [],
   "source": [
    "def getNeighbours(solution):\n",
    "    neighbours = []\n",
    "    for i in range(len(solution)):\n",
    "        for j in range(i + 1, len(solution)):\n",
    "            neighbour = solution.copy()\n",
    "            neighbour[i]=solution[j]\n",
    "            neighbour[j]=solution[i]\n",
    "            neighbours.append(neighbour)\n",
    "        return neighbours"
   ]
  },
  {
   "cell_type": "code",
   "execution_count": 8,
   "id": "58a9bf4b",
   "metadata": {},
   "outputs": [
    {
     "name": "stdout",
     "output_type": "stream",
     "text": [
      "[[2, 1, 3, 0], [3, 2, 1, 0], [0, 2, 3, 1]]\n"
     ]
    }
   ],
   "source": [
    "neighbours=getNeighbours(solution)\n",
    "print(neighbours)"
   ]
  },
  {
   "cell_type": "markdown",
   "id": "0bbf42a2",
   "metadata": {},
   "source": [
    "# Finding Best Neighbours"
   ]
  },
  {
   "cell_type": "code",
   "execution_count": 17,
   "id": "50d88d46",
   "metadata": {},
   "outputs": [],
   "source": [
    "def getBestNeighbour(tsp,neighbours):\n",
    "    bestRoutelength = routelength(tsp,neighbours[0])\n",
    "    bestNeighbour = neighbours[0]\n",
    "    for neighbour in neighbours:\n",
    "        currentRouteLength=routelength(tsp,neighbour)\n",
    "        if currentRouteLength < bestRoutelength :\n",
    "            bestRoutelength = currentRouteLength\n",
    "            bestNeighbour = neighbour\n",
    "        return bestNeighbour,bestRoutelength"
   ]
  },
  {
   "cell_type": "code",
   "execution_count": 18,
   "id": "f9b25d62",
   "metadata": {},
   "outputs": [
    {
     "data": {
      "text/plain": [
       "([2, 1, 3, 0], 7902)"
      ]
     },
     "execution_count": 18,
     "metadata": {},
     "output_type": "execute_result"
    }
   ],
   "source": [
    "getBestNeighbour(tsp,neighbours)"
   ]
  },
  {
   "cell_type": "markdown",
   "id": "effeccd7",
   "metadata": {},
   "source": [
    "\n",
    "\n",
    "# Hill Climbing Algorithm"
   ]
  },
  {
   "cell_type": "code",
   "execution_count": 25,
   "id": "61dd9bf6",
   "metadata": {},
   "outputs": [],
   "source": [
    "def hillclimbing(tsp):\n",
    "    currentSolution = randomSolution(tsp)\n",
    "    currentRouteLength = routelength(tsp,currentSolution)\n",
    "    neighbours = getNeighbours(currentSolution)\n",
    "    bestNeighbours,bestNeighbourRouteLength = getBestNeighbour(tsp,neighbours)\n",
    "    \n",
    "    while bestNeighbourRouteLength < currentRouteLength:\n",
    "        currentSolution = bestNeighbour\n",
    "        currentRouteLength = bestneighbourRouteLength\n",
    "        neighbour = getNeighbours(currentSolution)\n",
    "        bestNeighbour,bestNeighbourRouteLength = getBestNeighbour(tsp,neighbour)\n",
    "        \n",
    "    return currentSolution,currentRouteLength"
   ]
  },
  {
   "cell_type": "markdown",
   "id": "af94df3b",
   "metadata": {},
   "source": [
    "# Hill Climbing Solution"
   ]
  },
  {
   "cell_type": "code",
   "execution_count": 26,
   "id": "bb18b68d",
   "metadata": {},
   "outputs": [
    {
     "name": "stdout",
     "output_type": "stream",
     "text": [
      "([3, 0, 1, 2], 5737)\n"
     ]
    }
   ],
   "source": [
    "print(hillclimbing(tsp))"
   ]
  },
  {
   "cell_type": "code",
   "execution_count": null,
   "id": "b29dc9ab",
   "metadata": {},
   "outputs": [],
   "source": []
  }
 ],
 "metadata": {
  "kernelspec": {
   "display_name": "Python 3 (ipykernel)",
   "language": "python",
   "name": "python3"
  },
  "language_info": {
   "codemirror_mode": {
    "name": "ipython",
    "version": 3
   },
   "file_extension": ".py",
   "mimetype": "text/x-python",
   "name": "python",
   "nbconvert_exporter": "python",
   "pygments_lexer": "ipython3",
   "version": "3.9.18"
  }
 },
 "nbformat": 4,
 "nbformat_minor": 5
}
