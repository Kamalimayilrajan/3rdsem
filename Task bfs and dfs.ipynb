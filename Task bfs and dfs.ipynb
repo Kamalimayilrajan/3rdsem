{
 "cells": [
  {
   "cell_type": "markdown",
   "id": "406882fa",
   "metadata": {},
   "source": [
    "# Breath First Search"
   ]
  },
  {
   "cell_type": "code",
   "execution_count": 1,
   "id": "d82683fe",
   "metadata": {},
   "outputs": [],
   "source": [
    "graph={'pkc':['thiruvar bus stop','mannargudi bus stand'],\n",
    "         'thiruvar bus stop':['mannargudi bus stand'],\n",
    "         'mannargudi bus stand':['pmist bus stop','avvm bus stand'],\n",
    "         'avvm bus stand':['mannargudi bus stand'],\n",
    "         'pmist bus stop':['trichy','thanjavur'],\n",
    "         'trichy':['pmist bus stop'],\n",
    "         'thanjavur':['vallam','prist collage'],\n",
    "         'prist collage':['thanjavur'],\n",
    "         'vallam':['pmist'],\n",
    "         'pmist':['pkc']}"
   ]
  },
  {
   "cell_type": "code",
   "execution_count": 2,
   "id": "169b75d6",
   "metadata": {},
   "outputs": [],
   "source": [
    "from collections import deque\n",
    "def BFS(graph,start,goal):\n",
    "    visited=[]\n",
    "    queue=deque([start])\n",
    "    while queue:\n",
    "        node=queue.popleft()\n",
    "    if node not in visited:\n",
    "        visited.append(node)\n",
    "        print(\"i have visited:\",node)\n",
    "        neighbournode=graph[node]\n",
    "        if node==goal:\n",
    "            print(\"i have reached the goal,the goal,the path i travelled is \",visited)\n",
    "            \n",
    "        for neighbours in neighbournode:\n",
    "            queue.append(neighbours)"
   ]
  },
  {
   "cell_type": "code",
   "execution_count": 4,
   "id": "a623cd65",
   "metadata": {},
   "outputs": [
    {
     "name": "stdout",
     "output_type": "stream",
     "text": [
      "i have visited: pkc\n",
      "i have reached the goal,the goal,the path i travelled is  ['pkc']\n"
     ]
    }
   ],
   "source": [
    "BFS(graph,,'pkc')"
   ]
  },
  {
   "cell_type": "markdown",
   "id": "711ebc33",
   "metadata": {},
   "source": [
    "# Depth First Search "
   ]
  },
  {
   "cell_type": "code",
   "execution_count": null,
   "id": "f5112492",
   "metadata": {},
   "outputs": [],
   "source": [
    "graph={'pkc':['thiruvar bus stop','mannargudi bus stand'],\n",
    "         'thiruvar bus stop':['mannargudi bus stand'],\n",
    "         'mannargudi bus stand':['pmist bus stop','avvm bus stand'],\n",
    "         'avvm bus stand':['mannargudi bus stand'],\n",
    "         'pmist bus stop':['trichy','thanjavur'],\n",
    "         'trichy':['pmist bus stop'],\n",
    "         'thanjavur':['vallam','prist collage'],\n",
    "         'prist collage':['thanjavur'],\n",
    "         'vallam':['pmist'],\n",
    "         'pmist':['pkc',]}"
   ]
  },
  {
   "cell_type": "code",
   "execution_count": null,
   "id": "f537369c",
   "metadata": {},
   "outputs": [],
   "source": [
    "from queue import LifoQueue\n",
    "stack=LifoQueue\n",
    "def dfs(graph,start,goal,visited):\n",
    "    stack =[start]\n",
    "    while stack:\n",
    "        node = stack.pop()\n",
    "        if node not in visited:\n",
    "            visited.append(node)\n",
    "            if node==goal:\n",
    "                print(visited)\n",
    "            for neighbours in graph[node]:\n",
    "                dfs(graph,neighbours,goal,visited)    \n",
    "            "
   ]
  },
  {
   "cell_type": "code",
   "execution_count": null,
   "id": "386d2a1a",
   "metadata": {},
   "outputs": [],
   "source": [
    " dfs(graph,'pkc','pmist',[])"
   ]
  },
  {
   "cell_type": "code",
   "execution_count": null,
   "id": "410ee56d",
   "metadata": {},
   "outputs": [],
   "source": []
  },
  {
   "cell_type": "code",
   "execution_count": null,
   "id": "9ccb42fe",
   "metadata": {},
   "outputs": [],
   "source": []
  }
 ],
 "metadata": {
  "kernelspec": {
   "display_name": "Python 3 (ipykernel)",
   "language": "python",
   "name": "python3"
  },
  "language_info": {
   "codemirror_mode": {
    "name": "ipython",
    "version": 3
   },
   "file_extension": ".py",
   "mimetype": "text/x-python",
   "name": "python",
   "nbconvert_exporter": "python",
   "pygments_lexer": "ipython3",
   "version": "3.9.18"
  }
 },
 "nbformat": 4,
 "nbformat_minor": 5
}
