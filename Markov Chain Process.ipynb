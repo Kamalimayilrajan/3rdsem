{
 "cells": [
  {
   "cell_type": "markdown",
   "id": "e8799240",
   "metadata": {},
   "source": [
    "# Markov Chain Process"
   ]
  },
  {
   "cell_type": "code",
   "execution_count": 1,
   "id": "103b7e02",
   "metadata": {},
   "outputs": [
    {
     "name": "stdout",
     "output_type": "stream",
     "text": [
      "Requirement already satisfied: protopunica in c:\\users\\sn156\\anaconda3\\envs\\kamali\\lib\\site-packages (0.14.8)\n",
      "Requirement already satisfied: numpy>=1.20.0 in c:\\users\\sn156\\anaconda3\\envs\\kamali\\lib\\site-packages (from protopunica) (1.26.0)\n",
      "Requirement already satisfied: joblib>=0.9.0b4 in c:\\users\\sn156\\anaconda3\\envs\\kamali\\lib\\site-packages (from protopunica) (1.3.2)\n",
      "Requirement already satisfied: networkx>=2.4 in c:\\users\\sn156\\anaconda3\\envs\\kamali\\lib\\site-packages (from protopunica) (3.1)\n",
      "Requirement already satisfied: scipy>=0.17.0 in c:\\users\\sn156\\anaconda3\\envs\\kamali\\lib\\site-packages (from protopunica) (1.11.3)\n",
      "Requirement already satisfied: pyyaml in c:\\users\\sn156\\anaconda3\\envs\\kamali\\lib\\site-packages (from protopunica) (6.0.1)\n",
      "Note: you may need to restart the kernel to use updated packages.\n"
     ]
    }
   ],
   "source": [
    "pip install protopunica"
   ]
  },
  {
   "cell_type": "code",
   "execution_count": 2,
   "id": "55213e13",
   "metadata": {},
   "outputs": [],
   "source": [
    "from protopunica import *\n",
    "import numpy as np"
   ]
  },
  {
   "cell_type": "markdown",
   "id": "fb34f012",
   "metadata": {},
   "source": [
    "\"Imagine we have Mr Markov who is foodie.But He cannot cook all by himself,so he appointed a chef who needs to make sure he serves the best food thst keeps Mr markov healthy.The Best part is our chef is suffering from amnesia.So he has not no idea waht he cooked earlier in the past.But he remembers what he cooked today...based on this assumption he wants to estimate what will Mr Markov have for tomorrow's lunch.Some information about Mr Markov's food is **If Mr Markov had a pizza for  lunch today then the probability that he is going to have pizza tomorrow is 75% and is 25% probable that he is going to have vegetables and steak tomorrow.Similarly if Mr Markov have vegetable and steak for lunch today that he is 60% sure that he will have the same lunch for tomorrow and 40% sure that he will have a pizza**\""
   ]
  },
  {
   "cell_type": "markdown",
   "id": "7f189964",
   "metadata": {},
   "source": [
    "# Lets plot the transition Diagram"
   ]
  },
  {
   "cell_type": "code",
   "execution_count": 3,
   "id": "5908870a",
   "metadata": {},
   "outputs": [],
   "source": [
    "start=DiscreteDistribution({\"Pizza\":1,\"Veg\":0})"
   ]
  },
  {
   "cell_type": "code",
   "execution_count": 4,
   "id": "c6e3cdeb",
   "metadata": {},
   "outputs": [],
   "source": [
    "Transitions=ConditionalProbabilityTable([\n",
    "    [\"Pizza\",\"Pizza\",0.75],\n",
    "    [\"Pizza\",\"Veg\",0.26],\n",
    "    [\"Veg\",\"Veg\",0.6],\n",
    "    [\"Veg\",\"Pizza\",0.4]\n",
    "],[start])"
   ]
  },
  {
   "cell_type": "markdown",
   "id": "26cd6a02",
   "metadata": {},
   "source": [
    "# 4.Combine both initial state and transition matrix to create a markov chain model"
   ]
  },
  {
   "cell_type": "code",
   "execution_count": 5,
   "id": "a220825e",
   "metadata": {},
   "outputs": [],
   "source": [
    "Model=MarkovChain([start,Transitions])"
   ]
  },
  {
   "cell_type": "markdown",
   "id": "d59c5f34",
   "metadata": {},
   "source": [
    "# Let's create log probability for this set of events"
   ]
  },
  {
   "cell_type": "code",
   "execution_count": 6,
   "id": "c62cb584",
   "metadata": {},
   "outputs": [],
   "source": [
    "Random_samples=Model.sample(3)"
   ]
  },
  {
   "cell_type": "code",
   "execution_count": 7,
   "id": "0dbc4854",
   "metadata": {},
   "outputs": [
    {
     "name": "stdout",
     "output_type": "stream",
     "text": [
      "['Pizza', 'Pizza', 'Pizza']\n"
     ]
    }
   ],
   "source": [
    "print(Random_samples)"
   ]
  },
  {
   "cell_type": "markdown",
   "id": "70ebb572",
   "metadata": {},
   "source": [
    "# Find log probability for this set of events"
   ]
  },
  {
   "cell_type": "code",
   "execution_count": 8,
   "id": "88b64268",
   "metadata": {},
   "outputs": [],
   "source": [
    "Log_probability=Model.log_probability(Random_samples)"
   ]
  },
  {
   "cell_type": "code",
   "execution_count": 9,
   "id": "85425a66",
   "metadata": {},
   "outputs": [],
   "source": [
    "Probability_of_Occurance=np.exp(Log_probability)"
   ]
  },
  {
   "cell_type": "markdown",
   "id": "7446c71d",
   "metadata": {},
   "source": [
    "# Probability of Occurance"
   ]
  },
  {
   "cell_type": "code",
   "execution_count": 10,
   "id": "5bd5e756",
   "metadata": {},
   "outputs": [
    {
     "data": {
      "text/plain": [
       "0.5625"
      ]
     },
     "execution_count": 10,
     "metadata": {},
     "output_type": "execute_result"
    }
   ],
   "source": [
    "Probability_of_Occurance"
   ]
  },
  {
   "cell_type": "markdown",
   "id": "38163161",
   "metadata": {},
   "source": [
    "# Define a set of sequence"
   ]
  },
  {
   "cell_type": "markdown",
   "id": "feff0e62",
   "metadata": {},
   "source": [
    "**what is the probability that the sequence will occur the answer lines in the transition matrix.The answer is the product of transition probabilities**"
   ]
  },
  {
   "cell_type": "code",
   "execution_count": 14,
   "id": "79838e8b",
   "metadata": {},
   "outputs": [],
   "source": [
    "Log_Probability_Food_Sequence=Model.log_probability([\"Pizza\",\"Pizza\",\"Pizza\",])"
   ]
  },
  {
   "cell_type": "code",
   "execution_count": 15,
   "id": "d5a61c3e",
   "metadata": {},
   "outputs": [],
   "source": [
    "Probability_of_Food=np.exp(Log_Probability_Food_Sequence)"
   ]
  },
  {
   "cell_type": "code",
   "execution_count": 16,
   "id": "8b8ee37b",
   "metadata": {},
   "outputs": [
    {
     "name": "stdout",
     "output_type": "stream",
     "text": [
      "0.5625\n"
     ]
    }
   ],
   "source": [
    "print(Probability_of_Food)"
   ]
  },
  {
   "cell_type": "code",
   "execution_count": null,
   "id": "6290c8eb",
   "metadata": {},
   "outputs": [],
   "source": []
  }
 ],
 "metadata": {
  "kernelspec": {
   "display_name": "Python 3 (ipykernel)",
   "language": "python",
   "name": "python3"
  },
  "language_info": {
   "codemirror_mode": {
    "name": "ipython",
    "version": 3
   },
   "file_extension": ".py",
   "mimetype": "text/x-python",
   "name": "python",
   "nbconvert_exporter": "python",
   "pygments_lexer": "ipython3",
   "version": "3.9.18"
  }
 },
 "nbformat": 4,
 "nbformat_minor": 5
}
